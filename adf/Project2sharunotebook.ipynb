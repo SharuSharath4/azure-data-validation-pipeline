{
 "cells": [
  {
   "cell_type": "code",
   "execution_count": 0,
   "metadata": {
    "application/vnd.databricks.v1+cell": {
     "cellMetadata": {
      "byteLimit": 2048000,
      "rowLimit": 10000
     },
     "inputWidgets": {},
     "nuid": "9b8b84db-b414-460e-8754-9b5b49ae648b",
     "showTitle": false,
     "tableResultSettingsMap": {},
     "title": ""
    }
   },
   "outputs": [
    {
     "output_type": "stream",
     "name": "stdout",
     "output_type": "stream",
     "text": [
      "Product\n"
     ]
    }
   ],
   "source": [
    "#get the file name from the adf\n",
    "fileName = dbutils.widgets.get('fileName')\n",
    "#fileName='Product.csv'\n",
    "fileNameWithoutExt = fileName.split('.')[0]\n",
    "print(fileNameWithoutExt)\n"
   ]
  },
  {
   "cell_type": "code",
   "execution_count": 0,
   "metadata": {
    "application/vnd.databricks.v1+cell": {
     "cellMetadata": {
      "byteLimit": 2048000,
      "rowLimit": 10000
     },
     "inputWidgets": {},
     "nuid": "7eeff5e3-953c-472c-bd51-48f78f87c6dd",
     "showTitle": false,
     "tableResultSettingsMap": {},
     "title": ""
    }
   },
   "outputs": [],
   "source": [
    "import pyspark.sql.functions as F\n",
    "#from pyspark.sql import *\n",
    "#from datetime import datetme as dt\n",
    "\n",
    "#Just change all the values here based on the resource name you have created in your environemnt and workspace.\n",
    "\n",
    "sqlDbName = 'project2sharuDB'\n",
    "dbUserName = 'Sharathkumar'\n",
    "passwordKey = 'sqldbpasswordkey'\n",
    "stgAccountSASTokenKey = 'sastokenforst'\n",
    "landingFileName =fileName #'Product'  #dbutils.widgets.get('Product')\n",
    "databricksScopeName ='project2sharuscope'\n",
    "dbServer = 'sharath1234'\n",
    "dbServerPortNumber ='1433'\n",
    "storageContainer ='input1'\n",
    "storageAccount='project2sharuazure'\n",
    "landingMountPoint ='/mnt'\n"
   ]
  },
  {
   "cell_type": "code",
   "execution_count": 0,
   "metadata": {
    "application/vnd.databricks.v1+cell": {
     "cellMetadata": {
      "byteLimit": 2048000,
      "rowLimit": 10000
     },
     "inputWidgets": {},
     "nuid": "91ca4bcb-25c4-4177-808b-8c65e612405e",
     "showTitle": false,
     "tableResultSettingsMap": {},
     "title": ""
    }
   },
   "outputs": [
    {
     "output_type": "execute_result",
     "data": {
      "text/plain": [
       "True"
      ]
     },
     "execution_count": 17,
     "metadata": {},
     "output_type": "execute_result"
    }
   ],
   "source": [
    "\n",
    "sas_token = \"sv=2024-11-04&ss=bfqt&srt=sco&sp=rwdlacupyx&se=2025-07-10T14:42:57Z&st=2025-07-09T06:42:57Z&spr=https&sig=XSEmJRr24vfbZOIxJUzkiJMqsk%2F0sEir666MoWIy1Ok%3D\"  \n",
    "storage_account_name = storageAccount\n",
    "container_name = storageContainer\n",
    "mount_point = landingMountPoint\n",
    "\n",
    "dbutils.fs.mount(\n",
    "  source = f\"wasbs://{container_name}@{storage_account_name}.blob.core.windows.net/\",\n",
    "  mount_point = mount_point,\n",
    "  extra_configs = {\n",
    "    f\"fs.azure.sas.{container_name}.{storage_account_name}.blob.core.windows.net\": sas_token\n",
    "  }\n",
    ")\n",
    "\n",
    "\n",
    "    \n",
    "\n",
    "\n"
   ]
  },
  {
   "cell_type": "code",
   "execution_count": 0,
   "metadata": {
    "application/vnd.databricks.v1+cell": {
     "cellMetadata": {
      "byteLimit": 2048000,
      "rowLimit": 10000
     },
     "inputWidgets": {},
     "nuid": "4667f974-d898-4a77-854f-3168abc0441b",
     "showTitle": false,
     "tableResultSettingsMap": {},
     "title": ""
    }
   },
   "outputs": [
    {
     "output_type": "display_data",
     "data": {
      "text/html": [
       "<style scoped>\n",
       "  .table-result-container {\n",
       "    max-height: 300px;\n",
       "    overflow: auto;\n",
       "  }\n",
       "  table, th, td {\n",
       "    border: 1px solid black;\n",
       "    border-collapse: collapse;\n",
       "  }\n",
       "  th, td {\n",
       "    padding: 5px;\n",
       "  }\n",
       "  th {\n",
       "    text-align: left;\n",
       "  }\n",
       "</style><div class='table-result-container'><table class='table-result'><thead style='background-color: white'><tr><th>FileNo</th><th>FileName</th><th>ColumnName</th><th>ColumnDateFormat</th><th>ColumnIsNull</th><th>ModifiedDate</th></tr></thead><tbody><tr><td>1</td><td>Product</td><td>StartDate</td><td>MM-dd-yyyy</td><td>true</td><td>2012-06-18T22:34:09Z</td></tr><tr><td>1</td><td>Product</td><td>EndDate</td><td>MM/dd/yyyy</td><td>true</td><td>2012-06-18T22:34:09Z</td></tr><tr><td>1</td><td>Product</td><td>CreateDate</td><td>MM/dd/yyyy</td><td>true</td><td>2012-06-18T22:34:09Z</td></tr><tr><td>1</td><td>Product</td><td>ModifiedDate</td><td>MM/dd/yyyy</td><td>true</td><td>2012-06-18T22:34:09Z</td></tr><tr><td>2</td><td>ProductDescription</td><td>ModifiedDate</td><td>MM/dd/yyyy</td><td>true</td><td>2012-06-18T22:34:09Z</td></tr><tr><td>2</td><td>ProductDescription</td><td>StartDate</td><td>MM/dd/yyyy</td><td>true</td><td>2012-06-18T22:34:09Z</td></tr><tr><td>2</td><td>ProductDescription</td><td>EndDate</td><td>MM/dd/yyyy</td><td>true</td><td>2012-06-18T22:34:09Z</td></tr><tr><td>3</td><td>CustomerDetail</td><td>CreateDate</td><td>MM/dd/yyyy</td><td>true</td><td>2012-06-18T22:34:09Z</td></tr><tr><td>3</td><td>CustomerDetail</td><td>ActiveDate</td><td>MM/dd/yyyy</td><td>true</td><td>2012-06-18T22:34:09Z</td></tr></tbody></table></div>"
      ]
     },
     "metadata": {
      "application/vnd.databricks.v1+output": {
       "addedWidgets": {},
       "aggData": [],
       "aggError": "",
       "aggOverflow": false,
       "aggSchema": [],
       "aggSeriesLimitReached": false,
       "aggType": "",
       "arguments": {},
       "columnCustomDisplayInfos": {},
       "data": [
        [
         1,
         "Product",
         "StartDate",
         "MM-dd-yyyy",
         "true",
         "2012-06-18T22:34:09Z"
        ],
        [
         1,
         "Product",
         "EndDate",
         "MM/dd/yyyy",
         "true",
         "2012-06-18T22:34:09Z"
        ],
        [
         1,
         "Product",
         "CreateDate",
         "MM/dd/yyyy",
         "true",
         "2012-06-18T22:34:09Z"
        ],
        [
         1,
         "Product",
         "ModifiedDate",
         "MM/dd/yyyy",
         "true",
         "2012-06-18T22:34:09Z"
        ],
        [
         2,
         "ProductDescription",
         "ModifiedDate",
         "MM/dd/yyyy",
         "true",
         "2012-06-18T22:34:09Z"
        ],
        [
         2,
         "ProductDescription",
         "StartDate",
         "MM/dd/yyyy",
         "true",
         "2012-06-18T22:34:09Z"
        ],
        [
         2,
         "ProductDescription",
         "EndDate",
         "MM/dd/yyyy",
         "true",
         "2012-06-18T22:34:09Z"
        ],
        [
         3,
         "CustomerDetail",
         "CreateDate",
         "MM/dd/yyyy",
         "true",
         "2012-06-18T22:34:09Z"
        ],
        [
         3,
         "CustomerDetail",
         "ActiveDate",
         "MM/dd/yyyy",
         "true",
         "2012-06-18T22:34:09Z"
        ]
       ],
       "datasetInfos": [],
       "dbfsResultPath": null,
       "isJsonSchema": true,
       "metadata": {},
       "overflow": false,
       "plotOptions": {
        "customPlotOptions": {},
        "displayType": "table",
        "pivotAggregation": null,
        "pivotColumns": null,
        "xColumns": null,
        "yColumns": null
       },
       "removedWidgets": [],
       "schema": [
        {
         "metadata": "{\"isTimestampNTZ\":false,\"signed\":true,\"scale\":0}",
         "name": "FileNo",
         "type": "\"integer\""
        },
        {
         "metadata": "{\"isTimestampNTZ\":false,\"signed\":false,\"scale\":0}",
         "name": "FileName",
         "type": "\"string\""
        },
        {
         "metadata": "{\"isTimestampNTZ\":false,\"signed\":false,\"scale\":0}",
         "name": "ColumnName",
         "type": "\"string\""
        },
        {
         "metadata": "{\"isTimestampNTZ\":false,\"signed\":false,\"scale\":0}",
         "name": "ColumnDateFormat",
         "type": "\"string\""
        },
        {
         "metadata": "{\"isTimestampNTZ\":false,\"signed\":false,\"scale\":0}",
         "name": "ColumnIsNull",
         "type": "\"string\""
        },
        {
         "metadata": "{\"isTimestampNTZ\":false,\"signed\":false,\"scale\":3}",
         "name": "ModifiedDate",
         "type": "\"timestamp\""
        }
       ],
       "type": "table"
      }
     },
     "output_type": "display_data"
    }
   ],
   "source": [
    "#connect to Azure SQL DB\n",
    "# Connection details\n",
    "jdbc_hostname = \"sharath1234.database.windows.net\"      # Replace with your server\n",
    "jdbc_port = 1433\n",
    "jdbc_database = sqlDbName                               # Replace with your database name\n",
    "jdbc_username = dbUserName                  # SQL login with @yourserver\n",
    "jdbc_password = \"Sharkesh@#10\"                  # Replace with your actual password\n",
    "\n",
    "# JDBC URL\n",
    "jdbc_url = f\"jdbc:sqlserver://{jdbc_hostname}:{jdbc_port};database={jdbc_database};encrypt=true;trustServerCertificate=false;hostNameInCertificate=*.database.windows.net;loginTimeout=30;\"\n",
    "\n",
    "# JDBC properties\n",
    "connection_properties = {\n",
    "    \"user\": jdbc_username,\n",
    "    \"password\": jdbc_password,\n",
    "    \"driver\": \"com.microsoft.sqlserver.jdbc.SQLServerDriver\"\n",
    "}\n",
    "\n",
    "# Read from Azure SQL DB (replace dbo.TableName with your table)\n",
    "df = spark.read.jdbc(url=jdbc_url, table=\"dbo.[FileDetailsFormat]\", properties=connection_properties)\n",
    "\n",
    "# Show the result\n",
    "df.display()\n",
    "\n"
   ]
  },
  {
   "cell_type": "code",
   "execution_count": 0,
   "metadata": {
    "application/vnd.databricks.v1+cell": {
     "cellMetadata": {},
     "inputWidgets": {},
     "nuid": "254e6368-864f-46ec-94d6-8810674c4a43",
     "showTitle": false,
     "tableResultSettingsMap": {},
     "title": ""
    }
   },
   "outputs": [],
   "source": [
    "df1 = spark.read.csv('/mnt/landing/'+fileName, inferSchema=True, header=True)\n",
    "#display(df1)\n",
    "\n",
    "# Rule\n",
    "errorFlag=False\n",
    "errorMessage = ''\n",
    "totalcount = df1.count()\n",
    "print(totalcount)\n",
    "distinctCount = df1.distinct().count()\n",
    "print(distinctCount)\n",
    "if distinctCount !=totalcount:\n",
    "    errorFlag = True\n",
    "    errorMessage = 'Duplication Found. Rule 1 Failed'\n",
    "print(errorMessage)\n",
    "    \n",
    "# Rule 2\n",
    "df2 = df.filter(df.FileName==fileNameWithoutExt).select('ColumnName','ColumnDateFormat' )\n",
    "rows = df2.collect()\n",
    "for r in rows:\n",
    "    colName = r[0]\n",
    "    colFormat =r[1]\n",
    "    print(colName, colFormat)\n",
    "    #display(df1.filter(F.to_date(colName, colFormat).isNull() ==True))\n",
    "    formatCount =df1.filter(F.to_date(colName, colFormat).isNotNull() ==True).count()\n",
    "    if formatCount != totalcount:\n",
    "        errorFlag = True\n",
    "        errorMessage = errorMessage +' DateFormate is incorrect for {} '.format(colName)\n",
    "    else:\n",
    "        print('All rows are good for ', colName)\n",
    "print(errorMessage)\n",
    "\n",
    "if errorFlag:\n",
    "    dbutils.fs.mv('/mnt/landing/'+fileName,'/mnt/rejected/'+fileName )\n",
    "    dbutils.notebook.exit('{\"errorFlag\": \"true\", \"errorMessage\":\"'+errorMessage +'\"}')\n",
    "else:\n",
    "    dbutils.fs.mv('/mnt/landing/'+fileName,'/mnt/staging/'+fileName )\n",
    "    dbutils.notebook.exit('{\"errorFlag\": \"false\", \"errorMessage\":\"No error\"}')\n"
   ]
  },
  {
   "cell_type": "markdown",
   "metadata": {
    "application/vnd.databricks.v1+cell": {
     "cellMetadata": {},
     "inputWidgets": {},
     "nuid": "7031cead-14e7-4360-8583-a67f28fcf3b4",
     "showTitle": false,
     "tableResultSettingsMap": {},
     "title": ""
    }
   },
   "source": []
  }
 ],
 "metadata": {
  "application/vnd.databricks.v1+notebook": {
   "computePreferences": null,
   "dashboards": [],
   "environmentMetadata": {
    "base_environment": "",
    "environment_version": "2"
   },
   "inputWidgetPreferences": null,
   "language": "python",
   "notebookMetadata": {
    "pythonIndentUnit": 4
   },
   "notebookName": "Project2sharunotebook",
   "widgets": {}
  },
  "language_info": {
   "name": "python"
  }
 },
 "nbformat": 4,
 "nbformat_minor": 0
}